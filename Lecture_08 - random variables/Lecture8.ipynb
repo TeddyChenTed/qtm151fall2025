{
 "cells": [
  {
   "attachments": {},
   "cell_type": "markdown",
   "metadata": {},
   "source": [
    "# <span style=\"color:red\"> Lecture 8: Application - Simulating Random Variables </span>"
   ]
  },
  {
   "attachments": {},
   "cell_type": "markdown",
   "metadata": {},
   "source": [
    "<font size=\"5\"> \n",
    "\n",
    "In this class we will:\n",
    "\n",
    "- Use loops within an actual context: simulating random variables\n",
    "- Notebook also contains "
   ]
  },
  {
   "attachments": {},
   "cell_type": "markdown",
   "metadata": {},
   "source": [
    "## <span style=\"color:red\"> I. Import Libraries </span>"
   ]
  },
  {
   "cell_type": "code",
   "execution_count": 1,
   "metadata": {},
   "outputs": [],
   "source": [
    "import numpy as np\n",
    "import matplotlib.pyplot as plt\n",
    "import pandas as pd\n"
   ]
  },
  {
   "attachments": {},
   "cell_type": "markdown",
   "metadata": {},
   "source": [
    "## <span style=\"color:red\"> II. Visualizing Random Variables </span>"
   ]
  },
  {
   "attachments": {},
   "cell_type": "markdown",
   "metadata": {},
   "source": [
    "<font size = \"5\" >\n",
    "\n",
    "Consider a sample with $n$ observations\n",
    "\n",
    "$ X = \\begin{pmatrix} X_1 \\\\ X_2 \\\\ \\vdots \\\\ X_n \\end{pmatrix}.$"
   ]
  },
  {
   "attachments": {},
   "cell_type": "markdown",
   "metadata": {},
   "source": [
    "<font size = \"5\" > We can simulate from different probability distributions. Some common ones are:\n",
    "\n",
    "- The normal distribution with mean $\\mu$ and standard deviation (s.d.) $\\sigma$\n",
    "    - The **standard** normal distribution has mean $\\mu = 0$ and s.d. $\\sigma = 1$\n",
    "- The $\\chi^2$-distribution (\"chi-squared\") with $k$ degrees of freedom.\n",
    "    - If you take $k$ standard normal samples and add up their squares, you get a single sample from a chi-squared distribution with $k$ degrees of freedom.\n",
    "- The uniform distribution with endpoints $a < b$."
   ]
  },
  {
   "cell_type": "code",
   "execution_count": 2,
   "metadata": {},
   "outputs": [],
   "source": [
    "# Set sample size\n",
    "n = 10000\n",
    "\n",
    "# Draw n samples from normal distribution with mean = -2, s.d. = 6\n",
    "normal_samples = np.random.normal(loc = -2, scale = 6, size = n)\n",
    "\n",
    "# Draw n samples from chi-squared distribution with 4 degrees of freedom\n",
    "chisqr_samples = np.random.chisquare(df = 4, size = n)\n",
    "\n",
    "# Draw n samples from uniform distribution with a = -3, b = 5\n",
    "unif_samples = np.random.uniform(low = -3, high = 5, size = n)"
   ]
  },
  {
   "cell_type": "code",
   "execution_count": 3,
   "metadata": {},
   "outputs": [],
   "source": [
    "# np.random.normal and np.random.uniform have some default inputs\n",
    "\n",
    "# Draw n samples from standard normal distribution (mean = 0, s.d. = 1)\n",
    "# Default: loc = 0\n",
    "# Default: scale = 1\n",
    "std_normal_samples = np.random.normal(size = n)\n",
    "\n",
    "# Draw n samples from uniform distribution over unit interval (a = 0, b = 1)\n",
    "# Default: low = 0\n",
    "# Default: high = 1\n",
    "unit_unif_samples = np.random.uniform(size = n)\n",
    "\n"
   ]
  },
  {
   "attachments": {},
   "cell_type": "markdown",
   "metadata": {},
   "source": [
    "<font size = \"5\">\n",
    "\n",
    "The sample average is defined as \n",
    "\n",
    "$$ \\bar{X} = \\frac{1}{n}\\sum_{i=1}^n X_i $$"
   ]
  },
  {
   "cell_type": "code",
   "execution_count": 4,
   "metadata": {},
   "outputs": [
    {
     "name": "stdout",
     "output_type": "stream",
     "text": [
      "-1.9592212034683985\n",
      "3.9645282319550583\n",
      "0.9513134330732346\n",
      "-0.0025980470229492597\n",
      "0.4996736457610944\n"
     ]
    }
   ],
   "source": [
    "# Let's print of each of the above random variables\n",
    "\n",
    "print(normal_samples.mean())\n",
    "print(chisqr_samples.mean())\n",
    "print(unif_samples.mean())\n",
    "print(std_normal_samples.mean())\n",
    "print(unit_unif_samples.mean())"
   ]
  },
  {
   "cell_type": "code",
   "execution_count": 5,
   "metadata": {},
   "outputs": [
    {
     "name": "stdout",
     "output_type": "stream",
     "text": [
      "-1.9592212034683985\n",
      "3.9645282319550583\n",
      "0.9513134330732346\n",
      "-0.0025980470229492597\n",
      "0.4996736457610944\n"
     ]
    }
   ],
   "source": [
    "# Could also do:\n",
    "print(np.mean(normal_samples))\n",
    "print(np.mean(chisqr_samples))\n",
    "print(np.mean(unif_samples))\n",
    "print(np.mean(std_normal_samples))\n",
    "print(np.mean(unit_unif_samples))"
   ]
  },
  {
   "cell_type": "code",
   "execution_count": 6,
   "metadata": {},
   "outputs": [
    {
     "name": "stdout",
     "output_type": "stream",
     "text": [
      "Theoretical mean for normal_samples:  -2\n",
      "Theoretical mean for chisqr_samples:  4\n",
      "Theoretical mean for unif_samples:  1\n",
      "Theoretical mean for std_normal_samples:  0\n",
      "Theoretical mean for unit_unif_samples:  0.5\n"
     ]
    }
   ],
   "source": [
    "# each distribution has an expected value (theoretical mean)\n",
    "print(\"Theoretical mean for normal_samples: \", -2)\n",
    "print(\"Theoretical mean for chisqr_samples: \", 4)\n",
    "print(\"Theoretical mean for unif_samples: \", 1)\n",
    "print(\"Theoretical mean for std_normal_samples: \", 0)\n",
    "print(\"Theoretical mean for unit_unif_samples: \", 0.5)\n"
   ]
  },
  {
   "attachments": {},
   "cell_type": "markdown",
   "metadata": {},
   "source": [
    "<font size = \"5\" >\n",
    "\n",
    "Multiple plots in a row (subplot)\n",
    "\n",
    "- The probability density function (pdf) of the normal distribution has a bell shape\n",
    "- The pdf of the uniform distribution has a rectangular shape\n",
    "- We can make an **approximate** plot of the pdf by creating a histogram of the generated samples"
   ]
  },
  {
   "cell_type": "code",
   "execution_count": 7,
   "metadata": {},
   "outputs": [
    {
     "data": {
      "image/png": "[encoded data removed]",
      "text/plain": [
       "<Figure size 600x300 with 2 Axes>"
      ]
     },
     "metadata": {},
     "output_type": "display_data"
    }
   ],
   "source": [
    "#------------------------ Setting up subplots----------------------------------#\n",
    "# Create a plot with 1 row, 2 columns\n",
    "# First, create a \"matplotlib Figure\" and an array of \"sub-figures\"\n",
    "\n",
    "fig, subfig_array = plt.subplots(nrows = 1, ncols = 2,figsize = (6,3))\n",
    "\n",
    "# plt.subplots has TWO outputs, so we assign the output to TWO variables\n",
    "# The names we give them are OUR CHOICE\n",
    "# The option \"figsize\" indicates the (width,height)) of the graph.\n",
    "# The complete figure will be 6 inches wide, 3 inches tall\n",
    "\n",
    "\n",
    "# First Sub-Figure\n",
    "subfig_array[0].hist(x = normal_samples)\n",
    "subfig_array[0].set_title(\"Normal Distribution\\n with mean -2, s.d. 6\")\n",
    "subfig_array[0].set_xlabel(\"Sample Value\")\n",
    "subfig_array[0].set_ylabel(\"Frequency\")\n",
    "\n",
    "# Second Figure\n",
    "subfig_array[1].hist(x = unif_samples)\n",
    "subfig_array[1].set_title(\"Uniform Distribution\\n over [-3, 5]\")\n",
    "subfig_array[1].set_xlabel(\"Sample Value\")\n",
    "subfig_array[1].set_ylabel(\"Frequency\")\n",
    "\n",
    "# The tight layout option ensures that the axes are not overlapping\n",
    "# plt.tight_layout()\n",
    "\n",
    "\n",
    "plt.show()\n"
   ]
  },
  {
   "attachments": {},
   "cell_type": "markdown",
   "metadata": {},
   "source": [
    "<font size = \"5\">\n",
    "\n",
    "Now, let's do a version with three plots in the same row. We'll add the histogram of the chi-squared samples too\n"
   ]
  },
  {
   "cell_type": "code",
   "execution_count": null,
   "metadata": {},
   "outputs": [],
   "source": [
    "fig, subfig_array = plt.subplots(1, 3, figsize = (9,3))\n",
    "\n",
    "# First sub-figure\n",
    "subfig_array[0].hist(x = normal_samples)\n",
    "subfig_array[0].set_title(\"Normal Distribution\\n with mean -2, s.d. 6\")\n",
    "subfig_array[0].set_xlabel(\"Sample Value\")\n",
    "subfig_array[0].set_ylabel(\"Frequency\")\n",
    "\n",
    "# Second sub-figure\n",
    "subfig_array[1].hist(x = unif_samples)\n",
    "subfig_array[1].set_title(\"Uniform Distribution\\n over [-3, 5]\")\n",
    "subfig_array[1].set_xlabel(\"Sample Value\")\n",
    "subfig_array[1].set_ylabel(\"Frequency\")\n",
    "\n",
    "# Third sub-figure\n",
    "subfig_array[2].hist(x = chisqr_samples)\n",
    "subfig_array[2].set_title(\"Chi Square Distribution\\n with 4 degrees of freedom\")\n",
    "subfig_array[2].set_xlabel(\"Sample Value\")\n",
    "subfig_array[2].set_ylabel(\"Frequency\")\n",
    "\n",
    "# The tight layout option ensures that the axes are not overlapping\n",
    "plt.tight_layout()\n",
    "\n"
   ]
  },
  {
   "cell_type": "markdown",
   "metadata": {},
   "source": [
    "<font size = \"5\">\n",
    "\n",
    "- Now we make a figure with 4 plots arranged in a 2x2 pattern\n",
    "- Compare standard normal with our normal\n",
    "- Compare uniform over [0, 1] with uniform over [-3,5]"
   ]
  },
  {
   "cell_type": "code",
   "execution_count": null,
   "metadata": {},
   "outputs": [],
   "source": [
    "fig, subfig_array = plt.subplots(2, 2, figsize = (6,6))\n",
    "\n",
    "# First sub-figure\n",
    "subfig_array[0,0].hist(x = normal_samples)\n",
    "subfig_array[0,0].set_title(\"Normal Distribution\\n with mean -2, s.d. 6\")\n",
    "subfig_array[0,0].set_xlabel(\"Sample Value\")\n",
    "subfig_array[0,0].set_ylabel(\"Frequency\")\n",
    "\n",
    "# second sub-figure\n",
    "subfig_array[0,1].hist(x = std_normal_samples)\n",
    "subfig_array[0,1].set_title(\"Normal Distribution\\n with mean 0, s.d. 1\")\n",
    "subfig_array[0,1].set_xlabel(\"Sample Value\")\n",
    "subfig_array[0,1].set_ylabel(\"Frequency\")\n",
    "\n",
    "# third sub-figure\n",
    "subfig_array[1,0].hist(x = unif_samples)\n",
    "subfig_array[1,0].set_title(\"Uniform Distribution\\n over [-3, 5]\")\n",
    "subfig_array[1,0].set_xlabel(\"Sample Value\")\n",
    "subfig_array[1,0].set_ylabel(\"Frequency\")\n",
    "\n",
    "\n",
    "# fourth sub-figure\n",
    "subfig_array[1,1].hist(x = unit_unif_samples)\n",
    "subfig_array[1,1].set_title(\"Uniform Distribution\\n over [0, 1]\")\n",
    "subfig_array[1,1].set_xlabel(\"Sample Value\")\n",
    "subfig_array[1,1].set_ylabel(\"Frequency\")\n",
    "\n",
    "# The tight layout option ensures that the axes are not overlapping\n",
    "plt.tight_layout()\n"
   ]
  },
  {
   "attachments": {},
   "cell_type": "markdown",
   "metadata": {},
   "source": [
    "## <span style=\"color:red\"> III. Single Loops </span>"
   ]
  },
  {
   "attachments": {},
   "cell_type": "markdown",
   "metadata": {},
   "source": [
    "<font size = \"5\">\n",
    "\n",
    "How does $\\bar{X}$ change over different samples of the same size?"
   ]
  },
  {
   "cell_type": "code",
   "execution_count": null,
   "metadata": {},
   "outputs": [],
   "source": [
    "# store sample mean in a list\n",
    "list_xbar = [None, None, None, None]\n",
    "sample_size = 100\n",
    "\n",
    "vec_unif  = np.random.uniform(low = -2, high=2, size = sample_size)\n",
    "list_xbar[0] = vec_unif.mean()\n",
    "\n",
    "vec_unif  = np.random.uniform(low = -2, high=2, size = sample_size)\n",
    "list_xbar[1] = vec_unif.mean()\n",
    "\n",
    "vec_unif  = np.random.uniform(low = -2, high=2, size = sample_size)\n",
    "list_xbar[2] = vec_unif.mean()\n",
    "\n",
    "vec_unif  = np.random.uniform(low = -2, high=2, size = sample_size)\n",
    "list_xbar[3] = vec_unif.mean()\n",
    "\n",
    "print(list_xbar)\n",
    "print()\n",
    "print(np.array(list_xbar))\n",
    "print(\"Theoretical mean: \", 0)\n"
   ]
  },
  {
   "cell_type": "code",
   "execution_count": null,
   "metadata": {},
   "outputs": [],
   "source": [
    "# store sample mean in a numpy array (vector)\n",
    "# vec_xbar = np.array([None, None, None, None])\n",
    "\n",
    "# starting with zeros is more simple than starting with \"None\"\n",
    "vec_xbar = np.zeros(4)\n",
    "\n",
    "\n",
    "sample_size = 100\n",
    "\n",
    "vec_unif  = np.random.uniform(low = -2, high=2, size = sample_size)\n",
    "vec_xbar[0] = vec_unif.mean()\n",
    "\n",
    "vec_unif  = np.random.uniform(low = -2, high=2, size = sample_size)\n",
    "vec_xbar[1] = vec_unif.mean()\n",
    "\n",
    "vec_unif  = np.random.uniform(low = -2, high=2, size = sample_size)\n",
    "vec_xbar[2] = vec_unif.mean()\n",
    "\n",
    "vec_unif  = np.random.uniform(low = -2, high=2, size = sample_size)\n",
    "vec_xbar[3] = vec_unif.mean()\n",
    "\n",
    "print(vec_xbar)\n",
    "print(\"Theoretical mean: \", 0)"
   ]
  },
  {
   "cell_type": "code",
   "execution_count": null,
   "metadata": {},
   "outputs": [],
   "source": [
    "# We will draw random sample \"num_simulations\" times\n",
    "# Each time we will create a random vector of size \"sample_size\"\n",
    "# In this example we will generate values from a uniform between -2 and 2.\n",
    "\n",
    "num_simulations = 2000\n",
    "sample_size     = 100\n",
    "\n",
    "# using an array starting with zeros\n",
    "vec_xbar = np.zeros(num_simulations)\n",
    "\n",
    "# or array filled with None\n",
    "# vec_xbar = np.full(num_simulations, None, dtype=object)\n",
    "\n",
    "# using a list\n",
    "list_xbar = [None] * num_simulations\n",
    "\n",
    "for iteration in range(num_simulations):\n",
    "    vec_unif  = np.random.uniform(low = -2, high=2, size = sample_size)\n",
    "    vec_xbar[iteration] = vec_unif.mean()\n",
    "    list_xbar[iteration] = vec_unif.mean()\n",
    "\n",
    "\n",
    "plt.hist(x = vec_xbar)\n",
    "plt.title(\"Distribution of Xbar with different simulated samples\")\n",
    "plt.ylabel(\"Frequency\")\n",
    "plt.xlabel(\"Values of Xbar\")\n",
    "plt.show()\n"
   ]
  },
  {
   "attachments": {},
   "cell_type": "markdown",
   "metadata": {},
   "source": [
    "## <span style=\"color:red\"> IV. Nested Loops </span>"
   ]
  },
  {
   "attachments": {},
   "cell_type": "markdown",
   "metadata": {},
   "source": [
    "<font size = \"5\">\n",
    "\n",
    "What happens to $\\bar{X}$ with different $n$?\n",
    "\n",
    "- The Central Limit Theorem makes a prediction!\n",
    "- It says that the distribution will have a bell shape with higher $n$."
   ]
  },
  {
   "cell_type": "code",
   "execution_count": null,
   "metadata": {},
   "outputs": [],
   "source": [
    "# One way is to write this with repeated code chunks\n",
    "# We just repeat the code that we had above, with different sample sizes\n",
    "# Each time will start the process of generating new data from scratch.\n",
    "\n",
    "fig, subfig_array = plt.subplots(1, 3, figsize = (9,3))\n",
    "\n",
    "num_simulations = 2000\n",
    "\n",
    "# Simulate with sample size one\n",
    "sample_size = 1\n",
    "vec_xbar = np.zeros(num_simulations)\n",
    "for iteration in range(num_simulations):\n",
    "    vec_unif  = np.random.uniform(low = -2, high=2, size = sample_size)\n",
    "    vec_xbar[iteration] = vec_unif.mean()\n",
    "subfig_array[0].hist(vec_xbar)\n",
    "subfig_array[0].set_title(\"Distribution of Xbar with size 1\")\n",
    "subfig_array[0].set_ylabel(\"Frequency\")\n",
    "subfig_array[0].set_xlabel(\"Values of Xbar\")\n",
    "\n",
    "\n",
    "# Simulate with sample size 10\n",
    "sample_size = 10\n",
    "vec_xbar = np.zeros(num_simulations)\n",
    "for iteration in range(num_simulations):\n",
    "    vec_unif  = np.random.uniform(low = -2, high=2, size = sample_size)\n",
    "    vec_xbar[iteration] = vec_unif.mean()\n",
    "subfig_array[1].hist(vec_xbar)\n",
    "subfig_array[1].set_title(\"Distribution of Xbar with size 10\")\n",
    "subfig_array[1].set_ylabel(\"Frequency\")\n",
    "subfig_array[1].set_xlabel(\"Values of Xbar\")\n",
    "\n",
    "# Simulate with sample size 50\n",
    "sample_size = 50\n",
    "vec_xbar = np.zeros(num_simulations)\n",
    "for iteration in range(num_simulations):\n",
    "    vec_unif  = np.random.uniform(low = -2, high=2, size = sample_size)\n",
    "    vec_xbar[iteration] = vec_unif.mean()\n",
    "subfig_array[2].hist(vec_xbar)\n",
    "subfig_array[2].set_title(\"Distribution of Xbar with size 50\")\n",
    "subfig_array[2].set_ylabel(\"Frequency\")\n",
    "subfig_array[2].set_xlabel(\"Values of Xbar\")\n",
    "\n",
    "plt.tight_layout()\n",
    "plt.show()\n",
    "\n"
   ]
  },
  {
   "cell_type": "code",
   "execution_count": null,
   "metadata": {},
   "outputs": [],
   "source": [
    "# Let's make all 3 plots have consistent x and y limits\n",
    "\n",
    "fig, subfig_array = plt.subplots(1, 3, figsize = (9,3))\n",
    "\n",
    "num_simulations = 2000\n",
    "\n",
    "# Simulate with sample size one\n",
    "sample_size = 1\n",
    "vec_xbar = np.zeros(num_simulations)\n",
    "for iteration in range(num_simulations):\n",
    "    vec_unif  = np.random.uniform(low = -2, high=2, size = sample_size)\n",
    "    vec_xbar[iteration] = vec_unif.mean()\n",
    "\n",
    "\n",
    "subfig_array[0].hist(vec_xbar)\n",
    "subfig_array[0].set_title(\"Distribution of Xbar with size 1\")\n",
    "subfig_array[0].set_ylabel(\"Frequency\")\n",
    "subfig_array[0].set_xlabel(\"Values of Xbar\")\n",
    "subfig_array[0].set_xlim(-2,2)\n",
    "\n",
    "\n",
    "# Simulate with sample size 10\n",
    "sample_size = 10\n",
    "vec_xbar = np.zeros(num_simulations)\n",
    "for iteration in range(num_simulations):\n",
    "    vec_unif  = np.random.uniform(low = -2, high=2, size = sample_size)\n",
    "    vec_xbar[iteration] = vec_unif.mean()\n",
    "\n",
    "\n",
    "subfig_array[1].hist(vec_xbar)\n",
    "subfig_array[1].set_title(\"Distribution of Xbar with size 10\")\n",
    "subfig_array[1].set_ylabel(\"Frequency\")\n",
    "subfig_array[1].set_xlabel(\"Values of Xbar\")\n",
    "subfig_array[1].set_xlim(-2,2)\n",
    "\n",
    "# Simulate with sample size 50\n",
    "sample_size = 50\n",
    "vec_xbar = np.zeros(num_simulations)\n",
    "for iteration in range(num_simulations):\n",
    "    vec_unif  = np.random.uniform(low = -2, high=2, size = sample_size)\n",
    "    vec_xbar[iteration] = vec_unif.mean()\n",
    "\n",
    "\n",
    "subfig_array[2].hist(vec_xbar)\n",
    "subfig_array[2].set_title(\"Distribution of Xbar with size 50\")\n",
    "subfig_array[2].set_ylabel(\"Frequency\")\n",
    "subfig_array[2].set_xlabel(\"Values of Xbar\")\n",
    "subfig_array[2].set_xlim(-2,2)\n",
    "\n",
    "subfig_array[0].set_ylim(top=525)\n",
    "subfig_array[1].set_ylim(top=525)\n",
    "subfig_array[2].set_ylim(top=525)\n",
    "\n",
    "plt.tight_layout()\n",
    "plt.show()\n",
    "\n"
   ]
  },
  {
   "attachments": {},
   "cell_type": "markdown",
   "metadata": {},
   "source": [
    "<font size = \"5\">\n",
    "Let's do with with 2 for loops, one inside the other. (Nested loops)"
   ]
  },
  {
   "cell_type": "code",
   "execution_count": null,
   "metadata": {},
   "outputs": [],
   "source": [
    "num_simulations = 2000\n",
    "sample_size_list = [1,10,50,100,150,200]\n",
    "fig_row = [0, 0, 0, 1, 1, 1]\n",
    "fig_col = [0, 1, 2, 0, 1, 2]\n",
    "\n",
    "N = len(sample_size_list)\n",
    "\n",
    "fig, subfig_array = plt.subplots(2, 3, figsize = (9,6))\n",
    "\n",
    "xmin = -2\n",
    "xmax = 2\n",
    "ymax = 550\n",
    "\n",
    "for k in range(N):\n",
    "    sample_sz = sample_size_list[k]\n",
    "    row = fig_row[k]\n",
    "    col = fig_col[k]\n",
    "\n",
    "    vec_xbar = np.zeros(num_simulations)\n",
    "    for iteration in range(num_simulations):\n",
    "        vec_unif  = np.random.uniform(low = -2, high=2, size = sample_sz)\n",
    "        vec_xbar[iteration] = vec_unif.mean()\n",
    "\n",
    "    subfig_array[row,col].hist(vec_xbar)\n",
    "    subfig_array[row,col].set_title(\"Distribution of Xbar with\\n sample size \" + str(sample_sz))\n",
    "    subfig_array[row,col].set_ylabel(\"Frequency\")\n",
    "    subfig_array[row,col].set_xlabel(\"Values of Xbar\") \n",
    "    subfig_array[row,col].set_xlim(xmin,xmax) \n",
    "    subfig_array[row,col].set_ylim(top=ymax)  \n",
    "\n",
    "plt.tight_layout()\n",
    "plt.show()\n",
    "    \n"
   ]
  },
  {
   "cell_type": "markdown",
   "metadata": {},
   "source": [
    "<font size = \"5\">\n",
    "Notice that our loop variable \"k\" traversed the values 0, 1, 2, 3, 4, 5. But the only reason we needed these values was because we needed to access the k-th element of 3 lists. \n",
    "<br>\n",
    "\n",
    "```python\n",
    "    sample_sz = sample_size_list[k]\n",
    "    row = fig_row[k]\n",
    "    col = fig_col[k]\n",
    "```\n",
    "\n",
    "The only purpose of \"k\" was to define these 3 elements. Ideally we would like to do something like:\n",
    "<br>\n",
    "\n",
    "```python\n",
    "    for sample_sz, row, col in something:\n",
    "```\n",
    "\n",
    "The ``zip`` function allows us to create an appropiate object for \"something\""
   ]
  },
  {
   "cell_type": "code",
   "execution_count": null,
   "metadata": {},
   "outputs": [],
   "source": [
    "print(zip(sample_size_list, fig_row, fig_col)) # not helpful at all.."
   ]
  },
  {
   "cell_type": "code",
   "execution_count": null,
   "metadata": {},
   "outputs": [],
   "source": [
    "print(list(zip(sample_size_list, fig_row, fig_col)))"
   ]
  },
  {
   "cell_type": "code",
   "execution_count": null,
   "metadata": {},
   "outputs": [],
   "source": [
    "num_simulations = 2000\n",
    "sample_size_list = [1,10,50,100,150,200]\n",
    "fig_row = [0, 0, 0, 1, 1, 1]\n",
    "fig_col = [0, 1, 2, 0, 1, 2]\n",
    "\n",
    "\n",
    "fig, subfig_array = plt.subplots(2, 3, figsize = (9,6))\n",
    "\n",
    "xmin = -2\n",
    "xmax = 2\n",
    "ymax = 600\n",
    "\n",
    "for sample_sz, row, col in zip(sample_size_list, fig_row, fig_col):\n",
    "\n",
    "    vec_xbar = np.zeros(num_simulations)\n",
    "    for iteration in range(num_simulations):\n",
    "        vec_unif  = np.random.uniform(low = -2, high=2, size = sample_sz)\n",
    "        vec_xbar[iteration] = vec_unif.mean()\n",
    "\n",
    "    subfig_array[row,col].hist(vec_xbar)\n",
    "    subfig_array[row,col].set_title(\"Distribution of Xbar with\\n sample size \" + str(sample_sz))\n",
    "    subfig_array[row,col].set_ylabel(\"Frequency\")\n",
    "    subfig_array[row,col].set_xlabel(\"Values of Xbar\") \n",
    "    subfig_array[row,col].set_xlim(xmin,xmax) \n",
    "    subfig_array[row,col].set_ylim(top=ymax)  \n",
    "\n",
    "plt.tight_layout()\n",
    "plt.show()"
   ]
  },
  {
   "attachments": {},
   "cell_type": "markdown",
   "metadata": {},
   "source": [
    "<font size = \"5\">\n",
    "Try it yourself!\n",
    "\n",
    "- Repeat the above simulation with a few changes\n",
    "- Write code that puts all the figures in the same row\n",
    "- Use a Chi-square distribution with (df = 1) instead of a normal"
   ]
  },
  {
   "cell_type": "code",
   "execution_count": null,
   "metadata": {},
   "outputs": [],
   "source": [
    "# Write your own solution\n",
    "\n",
    "\n"
   ]
  },
  {
   "attachments": {},
   "cell_type": "markdown",
   "metadata": {},
   "source": [
    "## <span style=\"color:red\"> V. (Extra content) Loops + If/else </span>"
   ]
  },
  {
   "attachments": {},
   "cell_type": "markdown",
   "metadata": {},
   "source": [
    "<font size = \"5\">\n",
    "\n",
    "Let \"sample_stdv\" be the sample standard deviation of $X_i$.\n",
    "\n",
    "\n"
   ]
  },
  {
   "cell_type": "code",
   "execution_count": null,
   "metadata": {},
   "outputs": [],
   "source": [
    "# Parameters of a normal random variable\n",
    "n                 = 10000\n",
    "population_mean   = 2\n",
    "population_stdv   = 5\n",
    "\n",
    "# Create random variable and produce summary statistics\n",
    "X           = np.random.normal(loc = 2,scale = 5,size = n)\n",
    "Xbar        = X.mean()\n",
    "sample_stdv = X.std()\n",
    "\n",
    "# Check that the sample and standard deviation are close to their\n",
    "# population values\n",
    "print(Xbar)\n",
    "print(sample_stdv)\n"
   ]
  },
  {
   "attachments": {},
   "cell_type": "markdown",
   "metadata": {},
   "source": [
    "<font size = \"5\">\n",
    "\n",
    "A 95\\% normal confidence interval is defined by $\\ldots$\n",
    "\n",
    "- lower_bound = $\\bar{X} -1.96 \\times  \\frac{\\text{sample\\_stdv}}{\\sqrt{n}}$.\n",
    "- upper_bound = $\\bar{X} + 1.96 \\times \\frac{\\text{sample\\_stdv}}{\\sqrt{n}}$."
   ]
  },
  {
   "cell_type": "code",
   "execution_count": null,
   "metadata": {},
   "outputs": [],
   "source": [
    "# Compute new variables for the upper and lower bound\n",
    "\n",
    "lower_bound = Xbar - 1.96*(sample_stdv / np.sqrt(n))\n",
    "upper_bound = Xbar + 1.96*(sample_stdv / np.sqrt(n))\n"
   ]
  },
  {
   "attachments": {},
   "cell_type": "markdown",
   "metadata": {},
   "source": [
    "<font size = \"5\">\n",
    "Try it yourself! Write an if/else that checks whether <br>\n",
    "\n",
    "lower_bound $\\quad \\le \\quad $ population_mean $\\quad \\le \\quad$ upper_bound\n"
   ]
  },
  {
   "cell_type": "code",
   "execution_count": null,
   "metadata": {},
   "outputs": [],
   "source": [
    "# Write your own code\n",
    "\n",
    "\n"
   ]
  },
  {
   "attachments": {},
   "cell_type": "markdown",
   "metadata": {},
   "source": [
    "<font size =\"5\">\n",
    "\n",
    "Try it yourself! Test whether this is a 95% confidence interval\n",
    "\n"
   ]
  },
  {
   "attachments": {},
   "cell_type": "markdown",
   "metadata": {},
   "source": [
    "<font size = \"3\">\n",
    "\n",
    "Procedure:\n",
    "- Create a variable called \"num_simulations\" with value 1000\n",
    "- Create the simulation parameters \"n\", \"population_mean\", \"populations_stdv\".\n",
    "- Create an empty vector called \"list_test_confidenceinterval\".\n",
    "- Create a loop. At each iteration:\n",
    "\n",
    "    - Create a vector of normal random variables of size \"n\".\n",
    "    - Create a variable \"test_confidenceinterval\", which tests:\n",
    "    \n",
    "        lower_bound $\\quad \\le \\quad $ population_mean $\\quad \\le \\quad$ upper_bound\n",
    "    - Append \"test_confidenceinterval\" to the above list\n",
    "    \n",
    "- Compute the mean of \"list_test_confidenceinterval\"\n",
    "\n",
    "Note: The final result should be close to 95%.\n",
    "\n"
   ]
  },
  {
   "cell_type": "code",
   "execution_count": null,
   "metadata": {},
   "outputs": [],
   "source": [
    "# Write your own  code:\n",
    "\n",
    "\n",
    "\n",
    "\n",
    "\n"
   ]
  }
 ],
 "metadata": {
  "kernelspec": {
   "display_name": "base",
   "language": "python",
   "name": "python3"
  },
  "language_info": {
   "codemirror_mode": {
    "name": "ipython",
    "version": 3
   },
   "file_extension": ".py",
   "mimetype": "text/x-python",
   "name": "python",
   "nbconvert_exporter": "python",
   "pygments_lexer": "ipython3",
   "version": "3.13.5"
  },
  "orig_nbformat": 4,
  "vscode": {
   "interpreter": {
    "hash": "45fc1f684f6f416f40889115beff3ddf69879b64cf4bfee48cb72a61e9d15d1a"
   }
  }
 },
 "nbformat": 4,
 "nbformat_minor": 2
}
